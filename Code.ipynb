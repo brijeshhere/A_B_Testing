{
 "cells": [
  {
   "cell_type": "code",
   "execution_count": 1,
   "metadata": {},
   "outputs": [],
   "source": [
    "import pandas as pd\n",
    "import duckdb as duck\n",
    "import seaborn as sns\n",
    "import matplotlib.pyplot as plt"
   ]
  },
  {
   "cell_type": "code",
   "execution_count": 2,
   "metadata": {},
   "outputs": [],
   "source": [
    "df=pd.read_csv('Data/marketing_AB.csv')"
   ]
  },
  {
   "cell_type": "code",
   "execution_count": 3,
   "metadata": {},
   "outputs": [
    {
     "data": {
      "text/plain": [
       "┌─────────┬─────────┬────────────┬───────────┬───────────┬──────────────┬───────────────┐\n",
       "│ column0 │ user id │ test group │ converted │ total ads │ most ads day │ most ads hour │\n",
       "│  int64  │  int64  │  varchar   │  boolean  │   int64   │   varchar    │     int64     │\n",
       "├─────────┼─────────┼────────────┼───────────┼───────────┼──────────────┼───────────────┤\n",
       "│       0 │ 1069124 │ ad         │ false     │       130 │ Monday       │            20 │\n",
       "│       1 │ 1119715 │ ad         │ false     │        93 │ Tuesday      │            22 │\n",
       "│       2 │ 1144181 │ ad         │ false     │        21 │ Tuesday      │            18 │\n",
       "│       3 │ 1435133 │ ad         │ false     │       355 │ Tuesday      │            10 │\n",
       "│       4 │ 1015700 │ ad         │ false     │       276 │ Friday       │            14 │\n",
       "│       5 │ 1137664 │ ad         │ false     │       734 │ Saturday     │            10 │\n",
       "│       6 │ 1116205 │ ad         │ false     │       264 │ Wednesday    │            13 │\n",
       "│       7 │ 1496843 │ ad         │ false     │        17 │ Sunday       │            18 │\n",
       "│       8 │ 1448851 │ ad         │ false     │        21 │ Tuesday      │            19 │\n",
       "│       9 │ 1446284 │ ad         │ false     │       142 │ Monday       │            14 │\n",
       "│       · │    ·    │ ·          │   ·       │         · │   ·          │             · │\n",
       "│       · │    ·    │ ·          │   ·       │         · │   ·          │             · │\n",
       "│       · │    ·    │ ·          │   ·       │         · │   ·          │             · │\n",
       "│    9990 │ 1282677 │ ad         │ false     │        36 │ Wednesday    │            23 │\n",
       "│    9991 │ 1620499 │ ad         │ false     │        60 │ Tuesday      │            23 │\n",
       "│    9992 │ 1123354 │ ad         │ false     │       107 │ Friday       │            14 │\n",
       "│    9993 │ 1477093 │ ad         │ false     │       288 │ Saturday     │             6 │\n",
       "│    9994 │ 1406851 │ ad         │ false     │         6 │ Tuesday      │            22 │\n",
       "│    9995 │ 1309820 │ ad         │ false     │        48 │ Tuesday      │            10 │\n",
       "│    9996 │ 1266939 │ ad         │ false     │        37 │ Sunday       │            18 │\n",
       "│    9997 │ 1129452 │ ad         │ false     │        67 │ Tuesday      │            21 │\n",
       "│    9998 │ 1293231 │ ad         │ false     │       119 │ Thursday     │             0 │\n",
       "│    9999 │ 1301936 │ ad         │ false     │        26 │ Tuesday      │            22 │\n",
       "├─────────┴─────────┴────────────┴───────────┴───────────┴──────────────┴───────────────┤\n",
       "│ ? rows (>9999 rows, 20 shown)                                               7 columns │\n",
       "└───────────────────────────────────────────────────────────────────────────────────────┘"
      ]
     },
     "execution_count": 3,
     "metadata": {},
     "output_type": "execute_result"
    }
   ],
   "source": [
    "data=duck.read_csv('Data/marketing_AB.csv')\n",
    "data"
   ]
  },
  {
   "cell_type": "code",
   "execution_count": 4,
   "metadata": {},
   "outputs": [
    {
     "data": {
      "text/plain": [
       "┌────────────────────────────────────────────┐\n",
       "│ (count(DISTINCT \"user id\") / count_star()) │\n",
       "│                   double                   │\n",
       "├────────────────────────────────────────────┤\n",
       "│                                        1.0 │\n",
       "└────────────────────────────────────────────┘"
      ]
     },
     "execution_count": 4,
     "metadata": {},
     "output_type": "execute_result"
    }
   ],
   "source": [
    "duck.query('select COUNT(DISTINCT \"user id\")/COUNT(*) from data')"
   ]
  },
  {
   "cell_type": "markdown",
   "metadata": {},
   "source": [
    "#### Findings:\n",
    "\n",
    "All the user are distict"
   ]
  },
  {
   "cell_type": "markdown",
   "metadata": {},
   "source": [
    "## Question:\n",
    "\n",
    "Would the campaign be successful?\n",
    "    "
   ]
  },
  {
   "cell_type": "markdown",
   "metadata": {},
   "source": [
    "Theory\n",
    "\n",
    "Seen ads leads to conversion True\n",
    "\n",
    "Seen PSA lead to conversion True"
   ]
  },
  {
   "cell_type": "code",
   "execution_count": 5,
   "metadata": {},
   "outputs": [
    {
     "data": {
      "text/plain": [
       "┌────────────┐\n",
       "│ test group │\n",
       "│  varchar   │\n",
       "├────────────┤\n",
       "│ ad         │\n",
       "│ psa        │\n",
       "└────────────┘"
      ]
     },
     "execution_count": 5,
     "metadata": {},
     "output_type": "execute_result"
    }
   ],
   "source": [
    "duck.query('select DISTINCT \"test group\" from data')"
   ]
  },
  {
   "cell_type": "code",
   "execution_count": 6,
   "metadata": {},
   "outputs": [
    {
     "data": {
      "text/plain": [
       "column0          0\n",
       "user id          0\n",
       "test group       0\n",
       "converted        0\n",
       "total ads        0\n",
       "most ads day     0\n",
       "most ads hour    0\n",
       "dtype: int64"
      ]
     },
     "execution_count": 6,
     "metadata": {},
     "output_type": "execute_result"
    }
   ],
   "source": [
    "duck.sql('from data').to_df().isnull().sum()"
   ]
  },
  {
   "cell_type": "code",
   "execution_count": 7,
   "metadata": {},
   "outputs": [],
   "source": [
    "def sql(query):\n",
    "    return duck.sql(query)"
   ]
  },
  {
   "cell_type": "code",
   "execution_count": 8,
   "metadata": {},
   "outputs": [
    {
     "data": {
      "text/plain": [
       "test group\n",
       "ad     564577\n",
       "psa     23524\n",
       "Name: count, dtype: int64"
      ]
     },
     "execution_count": 8,
     "metadata": {},
     "output_type": "execute_result"
    }
   ],
   "source": [
    "sql('select \"test group\",converted from data').to_df()['test group'].value_counts()"
   ]
  },
  {
   "cell_type": "code",
   "execution_count": 9,
   "metadata": {},
   "outputs": [
    {
     "data": {
      "text/plain": [
       "<Axes: xlabel='converted', ylabel='count'>"
      ]
     },
     "execution_count": 9,
     "metadata": {},
     "output_type": "execute_result"
    },
    {
     "data": {
      "image/png": "[encoded data removed]",
      "text/plain": [
       "<Figure size 640x480 with 1 Axes>"
      ]
     },
     "metadata": {},
     "output_type": "display_data"
    }
   ],
   "source": [
    "sns.countplot(data=df,hue='test group',x='converted')"
   ]
  },
  {
   "cell_type": "markdown",
   "metadata": {},
   "source": [
    "## Z-test"
   ]
  },
  {
   "cell_type": "markdown",
   "metadata": {},
   "source": [
    "Group 1: People who seen ads\n",
    "\n",
    "Group 2: People who did not seen ads (seen PSA)"
   ]
  },
  {
   "cell_type": "markdown",
   "metadata": {},
   "source": [
    "Null hypothesis: There is no difference b/w both the group\n",
    "\n",
    "Alternative hypothesis: There is significant difference b/w groups"
   ]
  },
  {
   "cell_type": "code",
   "execution_count": 10,
   "metadata": {},
   "outputs": [],
   "source": [
    "from scipy.stats import ttest_ind\n",
    "from statsmodels.stats.weightstats import ztest"
   ]
  },
  {
   "cell_type": "code",
   "execution_count": 11,
   "metadata": {},
   "outputs": [
    {
     "data": {
      "text/plain": [
       "(7.37040597428566, 1.7010920800498703e-13)"
      ]
     },
     "execution_count": 11,
     "metadata": {},
     "output_type": "execute_result"
    }
   ],
   "source": [
    "# z-test\n",
    "ztest(df.loc[df['test group']=='ad','converted'],df.loc[df['test group']=='psa','converted'])"
   ]
  },
  {
   "cell_type": "code",
   "execution_count": 12,
   "metadata": {},
   "outputs": [
    {
     "data": {
      "text/plain": [
       "TtestResult(statistic=7.37040597428566, pvalue=1.7033052627831264e-13, df=588099.0)"
      ]
     },
     "execution_count": 12,
     "metadata": {},
     "output_type": "execute_result"
    }
   ],
   "source": [
    "# t-test\n",
    "ttest_ind(df.loc[df['test group']=='ad','converted'],df.loc[df['test group']=='psa','converted'])"
   ]
  },
  {
   "cell_type": "markdown",
   "metadata": {},
   "source": [
    "#### Interesting\n",
    "\n",
    "Something that i learnt, when number of observation above 30, t-distribution start folloing normal distribution, thus you can see the same stats and p value using ztest and ttest."
   ]
  },
  {
   "cell_type": "markdown",
   "metadata": {},
   "source": [
    "## Conversion Rate"
   ]
  },
  {
   "cell_type": "code",
   "execution_count": 13,
   "metadata": {},
   "outputs": [
    {
     "data": {
      "text/plain": [
       "0.025546559636683747"
      ]
     },
     "execution_count": 13,
     "metadata": {},
     "output_type": "execute_result"
    }
   ],
   "source": [
    "# Seen ads and bought product out of total people seen ads\n",
    "len(df.loc[((df['test group']=='ad') & (df['converted']==1))])/len(df.loc[df['test group']=='ad','converted'])"
   ]
  },
  {
   "cell_type": "code",
   "execution_count": 14,
   "metadata": {},
   "outputs": [
    {
     "data": {
      "text/plain": [
       "0.01785410644448223"
      ]
     },
     "execution_count": 14,
     "metadata": {},
     "output_type": "execute_result"
    }
   ],
   "source": [
    "# Seen psa and bought product out of total people seen psa\n",
    "len(df.loc[((df['test group']=='psa') & (df['converted']==1))])/len(df.loc[df['test group']=='psa','converted'])"
   ]
  },
  {
   "cell_type": "markdown",
   "metadata": {},
   "source": [
    "## Conclusion\n",
    "\n",
    "Z-test: There is significant difference between groups\n",
    "\n",
    "Conversion rate: People who seen ads and bought product have higher rate as compare to people who seen 'PSA' and bought product"
   ]
  }
 ],
 "metadata": {
  "kernelspec": {
   "display_name": "Python 3",
   "language": "python",
   "name": "python3"
  },
  "language_info": {
   "codemirror_mode": {
    "name": "ipython",
    "version": 3
   },
   "file_extension": ".py",
   "mimetype": "text/x-python",
   "name": "python",
   "nbconvert_exporter": "python",
   "pygments_lexer": "ipython3",
   "version": "3.11.4"
  }
 },
 "nbformat": 4,
 "nbformat_minor": 2
}
